{
  "nbformat": 4,
  "nbformat_minor": 0,
  "metadata": {
    "colab": {
      "name": "HelloWorld.ipynb",
      "version": "0.3.2",
      "provenance": [],
      "collapsed_sections": [],
      "include_colab_link": true
    },
    "kernelspec": {
      "name": "python3",
      "display_name": "Python 3"
    }
  },
  "cells": [
    {
      "cell_type": "markdown",
      "metadata": {
        "id": "view-in-github",
        "colab_type": "text"
      },
      "source": [
        "<a href=\"https://colab.research.google.com/github/Gingko-C/Colab-Practice/blob/master/HelloWorld.ipynb\" target=\"_parent\"><img src=\"https://colab.research.google.com/assets/colab-badge.svg\" alt=\"Open In Colab\"/></a>"
      ]
    },
    {
      "cell_type": "markdown",
      "metadata": {
        "id": "AuPULQaezRI2",
        "colab_type": "text"
      },
      "source": [
        "Importing & setting up TensorFlow,Keras,and Numpy"
      ]
    },
    {
      "cell_type": "code",
      "metadata": {
        "id": "6isHp01Iy38f",
        "colab_type": "code",
        "colab": {}
      },
      "source": [
        "import tensorflow as tf\n",
        "import numpy as np\n",
        "from tensorflow import keras"
      ],
      "execution_count": 0,
      "outputs": []
    },
    {
      "cell_type": "markdown",
      "metadata": {
        "id": "6CsggRaRzgj2",
        "colab_type": "text"
      },
      "source": [
        "Define & compile the neural network."
      ]
    },
    {
      "cell_type": "code",
      "metadata": {
        "id": "Dx-B3nvnz2w-",
        "colab_type": "code",
        "colab": {}
      },
      "source": [
        "model = tf.keras.Sequential([keras.layers.Dense(units=1,input_shape=[1])])"
      ],
      "execution_count": 0,
      "outputs": []
    },
    {
      "cell_type": "code",
      "metadata": {
        "id": "gzh7RDos0nbO",
        "colab_type": "code",
        "colab": {}
      },
      "source": [
        "model.compile(optimizer='sgd',loss='mean_squared_error')"
      ],
      "execution_count": 0,
      "outputs": []
    },
    {
      "cell_type": "code",
      "metadata": {
        "id": "cgPI0g4E1Gsh",
        "colab_type": "code",
        "colab": {}
      },
      "source": [
        "xs =np.array([-1.0,0.0,1.0,2.0,3.0,4.0],dtype=float)\n",
        "ys =np.array([-3.0,-1.0,1.0,3.0,5.0,7.0],dtype=float)"
      ],
      "execution_count": 0,
      "outputs": []
    },
    {
      "cell_type": "markdown",
      "metadata": {
        "id": "YSDKknZl0jGS",
        "colab_type": "text"
      },
      "source": [
        "Training the Neural Network"
      ]
    },
    {
      "cell_type": "code",
      "metadata": {
        "id": "eLvyRVMk1jJN",
        "colab_type": "code",
        "colab": {}
      },
      "source": [
        "model.fit(xs,ys,epochs=500)"
      ],
      "execution_count": 0,
      "outputs": []
    },
    {
      "cell_type": "code",
      "metadata": {
        "id": "WrMdEir21yEf",
        "colab_type": "code",
        "outputId": "92536ccc-b0bc-4bca-b0f4-b47d22606184",
        "colab": {
          "base_uri": "https://localhost:8080/",
          "height": 35
        }
      },
      "source": [
        "print(model.predict([10.0]))"
      ],
      "execution_count": 0,
      "outputs": [
        {
          "output_type": "stream",
          "text": [
            "[[18.999876]]\n"
          ],
          "name": "stdout"
        }
      ]
    }
  ]
}